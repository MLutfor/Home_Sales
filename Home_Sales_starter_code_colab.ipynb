{
  "cells": [
    {
      "cell_type": "markdown",
      "metadata": {
        "id": "view-in-github",
        "colab_type": "text"
      },
      "source": [
        "<a href=\"https://colab.research.google.com/github/MLutfor/Home_Sales/blob/main/Home_Sales_starter_code_colab.ipynb\" target=\"_parent\"><img src=\"https://colab.research.google.com/assets/colab-badge.svg\" alt=\"Open In Colab\"/></a>"
      ]
    },
    {
      "cell_type": "code",
      "source": [
        "!pip install pyspark"
      ],
      "metadata": {
        "id": "iYTi0SunpEwh",
        "colab": {
          "base_uri": "https://localhost:8080/"
        },
        "outputId": "bcc3c6c5-6ddc-4816-917c-e8d8bf6a3601"
      },
      "execution_count": null,
      "outputs": [
        {
          "output_type": "stream",
          "name": "stdout",
          "text": [
            "Collecting pyspark\n",
            "  Downloading pyspark-3.5.0.tar.gz (316.9 MB)\n",
            "\u001b[2K     \u001b[90m━━━━━━━━━━━━━━━━━━━━━━━━━━━━━━━━━━━━━━━━\u001b[0m \u001b[32m316.9/316.9 MB\u001b[0m \u001b[31m4.0 MB/s\u001b[0m eta \u001b[36m0:00:00\u001b[0m\n",
            "\u001b[?25h  Preparing metadata (setup.py) ... \u001b[?25l\u001b[?25hdone\n",
            "Requirement already satisfied: py4j==0.10.9.7 in /usr/local/lib/python3.10/dist-packages (from pyspark) (0.10.9.7)\n",
            "Building wheels for collected packages: pyspark\n",
            "  Building wheel for pyspark (setup.py) ... \u001b[?25l\u001b[?25hdone\n",
            "  Created wheel for pyspark: filename=pyspark-3.5.0-py2.py3-none-any.whl size=317425345 sha256=11006c5f31a5179469e3dc93808bb4be3975be0d9e3d5d8316724a02764f962a\n",
            "  Stored in directory: /root/.cache/pip/wheels/41/4e/10/c2cf2467f71c678cfc8a6b9ac9241e5e44a01940da8fbb17fc\n",
            "Successfully built pyspark\n",
            "Installing collected packages: pyspark\n",
            "Successfully installed pyspark-3.5.0\n"
          ]
        }
      ]
    },
    {
      "cell_type": "code",
      "execution_count": null,
      "metadata": {
        "id": "2XbWNf1Te5fM"
      },
      "outputs": [],
      "source": [
        "# Import packages\n",
        "from pyspark.sql import SparkSession\n",
        "\n",
        "from pyspark.sql import functions as F\n",
        "from pyspark.sql.types import StringType\n",
        "import pandas as pd\n",
        "\n",
        "import time\n",
        "\n",
        "# Create a SparkSession\n",
        "spark = SparkSession.builder.appName(\"SparkSQL\").getOrCreate()"
      ]
    },
    {
      "cell_type": "code",
      "execution_count": null,
      "metadata": {
        "id": "wOJqxG_RPSwp",
        "colab": {
          "base_uri": "https://localhost:8080/"
        },
        "outputId": "14a5dabf-0d50-4efa-a20e-365ddbbc467f"
      },
      "outputs": [
        {
          "output_type": "stream",
          "name": "stdout",
          "text": [
            "+--------------------+----------+----------+------+--------+---------+-----------+--------+------+----------+----+\n",
            "|                  id|      date|date_built| price|bedrooms|bathrooms|sqft_living|sqft_lot|floors|waterfront|view|\n",
            "+--------------------+----------+----------+------+--------+---------+-----------+--------+------+----------+----+\n",
            "|f8a53099-ba1c-47d...|2022-04-08|      2016|936923|       4|        3|       3167|   11733|     2|         1|  76|\n",
            "|7530a2d8-1ae3-451...|2021-06-13|      2013|379628|       2|        2|       2235|   14384|     1|         0|  23|\n",
            "|43de979c-0bf0-4c9...|2019-04-12|      2014|417866|       2|        2|       2127|   10575|     2|         0|   0|\n",
            "|b672c137-b88c-48b...|2019-10-16|      2016|239895|       2|        2|       1631|   11149|     2|         0|   0|\n",
            "|e0726d4d-d595-407...|2022-01-08|      2017|424418|       3|        2|       2249|   13878|     2|         0|   4|\n",
            "|5aa00529-0533-46b...|2019-01-30|      2017|218712|       2|        3|       1965|   14375|     2|         0|   7|\n",
            "|131492a1-72e2-4a8...|2020-02-08|      2017|419199|       2|        3|       2062|    8876|     2|         0|   6|\n",
            "|8d54a71b-c520-44e...|2019-07-21|      2010|323956|       2|        3|       1506|   11816|     1|         0|  25|\n",
            "|e81aacfe-17fe-46b...|2020-06-16|      2016|181925|       3|        3|       2137|   11709|     2|         0|  22|\n",
            "|2ed8d509-7372-46d...|2021-08-06|      2015|258710|       3|        3|       1918|    9666|     1|         0|  25|\n",
            "|f876d86f-3c9f-42b...|2019-02-27|      2011|167864|       3|        3|       2471|   13924|     2|         0|  15|\n",
            "|0a2bd445-8508-4d8...|2021-12-30|      2014|337527|       2|        3|       1926|   12556|     1|         0|  23|\n",
            "|941bad30-eb49-4a7...|2020-05-09|      2015|229896|       3|        3|       2197|    8641|     1|         0|   3|\n",
            "|dd61eb34-6589-4c0...|2021-07-25|      2016|210247|       3|        2|       1672|   11986|     2|         0|  28|\n",
            "|f1e4cef7-d151-439...|2019-02-01|      2011|398667|       2|        3|       2331|   11356|     1|         0|   7|\n",
            "|ea620c7b-c2f7-4c6...|2021-05-31|      2011|437958|       3|        3|       2356|   11052|     1|         0|  26|\n",
            "|f233cb41-6f33-4b0...|2021-07-18|      2016|437375|       4|        3|       1704|   11721|     2|         0|  34|\n",
            "|c797ca12-52cd-4b1...|2019-06-08|      2015|288650|       2|        3|       2100|   10419|     2|         0|   7|\n",
            "|0cfe57f3-28c2-472...|2019-10-04|      2015|308313|       3|        3|       1960|    9453|     2|         0|   2|\n",
            "|4566cd2a-ac6e-435...|2019-07-15|      2016|177541|       3|        3|       2130|   10517|     2|         0|  25|\n",
            "+--------------------+----------+----------+------+--------+---------+-----------+--------+------+----------+----+\n",
            "only showing top 20 rows\n",
            "\n"
          ]
        }
      ],
      "source": [
        "# 1. Read in the AWS S3 bucket into a DataFrame.\n",
        "from pyspark import SparkFiles\n",
        "url = \"https://2u-data-curriculum-team.s3.amazonaws.com/dataviz-classroom/v1.2/22-big-data/home_sales_revised.csv\"\n",
        "\n",
        "spark.sparkContext.addFile(url)\n",
        "df = spark.read.csv(SparkFiles.get(\"home_sales_revised.csv\"), sep=\",\", header=True)\n",
        "df.show()\n"
      ]
    },
    {
      "cell_type": "code",
      "execution_count": null,
      "metadata": {
        "id": "RoljcJ7WPpnm"
      },
      "outputs": [],
      "source": [
        "# 2. Create a temporary view of the DataFrame.\n",
        "\n",
        "df.createOrReplaceTempView(\"home_sales_view\")"
      ]
    },
    {
      "cell_type": "code",
      "execution_count": null,
      "metadata": {
        "id": "L6fkwOeOmqvq",
        "colab": {
          "base_uri": "https://localhost:8080/"
        },
        "outputId": "8f1acf64-01d4-4487-cb03-d7abc302aee1"
      },
      "outputs": [
        {
          "output_type": "stream",
          "name": "stdout",
          "text": [
            "+----+------------------+\n",
            "|year|avg_price         |\n",
            "+----+------------------+\n",
            "|2019|300263.6955128205 |\n",
            "|2020|298353.78003169573|\n",
            "|2021|301819.44398864   |\n",
            "|2022|296363.8845050215 |\n",
            "+----+------------------+\n",
            "\n"
          ]
        }
      ],
      "source": [
        "# 3. What is the average price for a four-bedroom house sold in each year rounded to two decimal places?\n",
        "query = \"\"\"\n",
        "    SELECT\n",
        "        YEAR(date) AS year,\n",
        "        AVG(price) AS avg_price\n",
        "    FROM\n",
        "        home_sales_view\n",
        "    WHERE\n",
        "        bedrooms = 4\n",
        "    GROUP BY\n",
        "        year\n",
        "    ORDER BY\n",
        "        year\n",
        "\"\"\"\n",
        "\n",
        "result = spark.sql(query)\n",
        "result.show(truncate=False)\n",
        "\n"
      ]
    },
    {
      "cell_type": "code",
      "execution_count": null,
      "metadata": {
        "id": "l8p_tUS8h8it",
        "colab": {
          "base_uri": "https://localhost:8080/"
        },
        "outputId": "1d660228-cb54-4385-ac3b-5f169e18ef85"
      },
      "outputs": [
        {
          "output_type": "stream",
          "name": "stdout",
          "text": [
            "+----------+------------------+\n",
            "|year_built|avg_price         |\n",
            "+----------+------------------+\n",
            "|2010      |292859.615942029  |\n",
            "|2011      |291117.46706586826|\n",
            "|2012      |293683.1872074883 |\n",
            "|2013      |295962.27145085804|\n",
            "|2014      |290852.2661870504 |\n",
            "|2015      |288770.2966101695 |\n",
            "|2016      |290555.073964497  |\n",
            "|2017      |292676.7887740029 |\n",
            "+----------+------------------+\n",
            "\n"
          ]
        }
      ],
      "source": [
        "# 4. What is the average price of a home for each year the home was built that have 3 bedrooms and 3 bathrooms rounded to two decimal places?\n",
        "query = \"\"\"\n",
        "    SELECT\n",
        "        date_built AS year_built,\n",
        "        AVG(price) AS avg_price\n",
        "    FROM\n",
        "        home_sales_view\n",
        "    WHERE\n",
        "        bedrooms = 3 AND bathrooms = 3\n",
        "    GROUP BY\n",
        "        year_built\n",
        "    ORDER BY\n",
        "        year_built\n",
        "\"\"\"\n",
        "\n",
        "result = spark.sql(query)\n",
        "result.show(truncate=False)\n"
      ]
    },
    {
      "cell_type": "code",
      "execution_count": null,
      "metadata": {
        "id": "Y-Eytz64liDU",
        "colab": {
          "base_uri": "https://localhost:8080/"
        },
        "outputId": "188742f1-1476-402a-b949-6910a22550ef"
      },
      "outputs": [
        {
          "output_type": "stream",
          "name": "stdout",
          "text": [
            "+----------+------------------+\n",
            "|year_built|avg_price         |\n",
            "+----------+------------------+\n",
            "|2010      |285010.2215909091 |\n",
            "|2011      |276553.8128654971 |\n",
            "|2012      |307539.97402597405|\n",
            "|2013      |303676.79375      |\n",
            "|2014      |298264.7183908046 |\n",
            "|2015      |297609.9679144385 |\n",
            "|2016      |293965.1046511628 |\n",
            "|2017      |280317.57692307694|\n",
            "+----------+------------------+\n",
            "\n"
          ]
        }
      ],
      "source": [
        "# 5. What is the average price of a home for each year built that have 3 bedrooms, 3 bathrooms, with two floors, and are greater than or equal to 2,000 square feet rounded to two decimal places?\n",
        "query = \"\"\"\n",
        "    SELECT\n",
        "        date_built AS year_built,\n",
        "        AVG(price) AS avg_price\n",
        "    FROM\n",
        "        home_sales_view\n",
        "    WHERE\n",
        "        bedrooms = 3 AND\n",
        "        bathrooms = 3 AND\n",
        "        floors = 2 AND\n",
        "        sqft_living >= 2000\n",
        "    GROUP BY\n",
        "        year_built\n",
        "    ORDER BY\n",
        "        year_built\n",
        "\"\"\"\n",
        "\n",
        "result = spark.sql(query)\n",
        "result.show(truncate=False)\n",
        "\n"
      ]
    },
    {
      "cell_type": "code",
      "execution_count": null,
      "metadata": {
        "colab": {
          "base_uri": "https://localhost:8080/"
        },
        "id": "GUrfgOX1pCRd",
        "outputId": "0a645986-7179-440c-c0bc-345f1693f8af"
      },
      "outputs": [
        {
          "name": "stdout",
          "output_type": "stream",
          "text": [
            "--- 7.200241088867188e-05 seconds ---\n"
          ]
        }
      ],
      "source": [
        "# 6. What is the \"view\" rating for the average price of a home, rounded to two decimal places, where the homes are greater than\n",
        "# or equal to $350,000? Although this is a small dataset, determine the run time for this query.\n",
        "\n",
        "start_time = time.time()\n",
        "\n",
        "\n",
        "\n",
        "print(\"--- %s seconds ---\" % (time.time() - start_time))"
      ]
    },
    {
      "cell_type": "code",
      "source": [
        "# 6. What is the \"view\" rating for the average price of a home, rounded to two decimal places, where the homes are greater than or equal to $350,000?\n",
        "start_time = time.time()\n",
        "\n",
        "# Run Spark SQL query\n",
        "result = spark.sql(\"\"\"\n",
        "    SELECT\n",
        "        view,\n",
        "        ROUND(AVG(price), 2) AS avg_price\n",
        "    FROM\n",
        "        home_sales_view\n",
        "    WHERE\n",
        "        price >= 350000\n",
        "    GROUP BY\n",
        "        view\n",
        "\"\"\")\n",
        "\n",
        "result.show(truncate=False)\n",
        "\n",
        "print(\"--- %s seconds ---\" % (time.time() - start_time))"
      ],
      "metadata": {
        "id": "s-9PVjC8IvNZ",
        "colab": {
          "base_uri": "https://localhost:8080/"
        },
        "outputId": "ceabbd34-37ce-4d9c-9661-ebd4ce0aef1f"
      },
      "execution_count": 16,
      "outputs": [
        {
          "output_type": "stream",
          "name": "stdout",
          "text": [
            "+----+----------+\n",
            "|view|avg_price |\n",
            "+----+----------+\n",
            "|7   |403005.77 |\n",
            "|51  |788128.21 |\n",
            "|15  |404673.3  |\n",
            "|54  |798684.82 |\n",
            "|11  |399548.12 |\n",
            "|29  |397771.65 |\n",
            "|69  |750537.94 |\n",
            "|42  |396964.5  |\n",
            "|87  |1072285.2 |\n",
            "|73  |752861.18 |\n",
            "|64  |767036.67 |\n",
            "|3   |398867.6  |\n",
            "|30  |397862.0  |\n",
            "|34  |401419.75 |\n",
            "|59  |791453.0  |\n",
            "|8   |398592.71 |\n",
            "|28  |402124.62 |\n",
            "|22  |402022.68 |\n",
            "|85  |1056336.74|\n",
            "|16  |399586.53 |\n",
            "+----+----------+\n",
            "only showing top 20 rows\n",
            "\n",
            "--- 1.0174167156219482 seconds ---\n"
          ]
        }
      ]
    },
    {
      "cell_type": "code",
      "execution_count": 17,
      "metadata": {
        "id": "KAhk3ZD2tFy8",
        "colab": {
          "base_uri": "https://localhost:8080/"
        },
        "outputId": "3916d83c-1404-4e37-a855-b0b4f0ccebd5"
      },
      "outputs": [
        {
          "output_type": "execute_result",
          "data": {
            "text/plain": [
              "DataFrame[]"
            ]
          },
          "metadata": {},
          "execution_count": 17
        }
      ],
      "source": [
        "# 7. Cache the the temporary table home_sales.\n",
        "spark.sql(\"CACHE TABLE home_sales_view\")"
      ]
    },
    {
      "cell_type": "code",
      "execution_count": 20,
      "metadata": {
        "id": "4opVhbvxtL-i",
        "colab": {
          "base_uri": "https://localhost:8080/"
        },
        "outputId": "7cda146b-7b1c-4b7c-9c56-9b341db7bde8"
      },
      "outputs": [
        {
          "output_type": "execute_result",
          "data": {
            "text/plain": [
              "True"
            ]
          },
          "metadata": {},
          "execution_count": 20
        }
      ],
      "source": [
        "# 8. Check if the table is cached.\n",
        "spark.catalog.isCached('home_sales_view')"
      ]
    },
    {
      "cell_type": "code",
      "execution_count": null,
      "metadata": {
        "colab": {
          "base_uri": "https://localhost:8080/"
        },
        "id": "5GnL46lwTSEk",
        "outputId": "63c7dc50-d96a-4a48-97b6-91a446cdb973"
      },
      "outputs": [
        {
          "name": "stdout",
          "output_type": "stream",
          "text": [
            "--- 5.459785461425781e-05 seconds ---\n"
          ]
        }
      ],
      "source": [
        "# 9. Using the cached data, run the query that filters out the view ratings with average price\n",
        "#  greater than or equal to $350,000. Determine the runtime and compare it to uncached runtime.\n",
        "\n",
        "start_time = time.time()\n",
        "\n",
        "\n",
        "\n",
        "print(\"--- %s seconds ---\" % (time.time() - start_time))\n"
      ]
    },
    {
      "cell_type": "code",
      "source": [
        "# 9. Using the cached data, run the query that filters out the view ratings with average price greater than or equal to $350,000. Determine the runtime and compare it to uncached runtime.\n",
        "start_time_cached = time.time()\n",
        "\n",
        "# Run Spark SQL query using cached data\n",
        "result_cached = spark.sql(\"\"\"\n",
        "    SELECT\n",
        "        view,\n",
        "        ROUND(AVG(price), 2) AS avg_price\n",
        "    FROM\n",
        "        home_sales_view\n",
        "    WHERE\n",
        "        price >= 350000\n",
        "    GROUP BY\n",
        "        view\n",
        "\"\"\")\n",
        "\n",
        "result_cached.show(truncate=False)\n",
        "\n",
        "print(\"--- Cached Runtime: %s seconds ---\" % (time.time() - start_time_cached))\n",
        "\n",
        "# Uncached Runtime (using the same query as before)\n",
        "start_time_uncached = time.time()\n",
        "\n",
        "result_uncached = df.filter(df[\"price\"] >= 350000).groupBy(\"view\").agg(F.round(F.avg(\"price\"), 2).alias(\"avg_price\"))\n",
        "result_uncached.show(truncate=False)\n",
        "\n",
        "print(\"--- Uncached Runtime: %s seconds ---\" % (time.time() - start_time_uncached))\n"
      ],
      "metadata": {
        "colab": {
          "base_uri": "https://localhost:8080/"
        },
        "id": "NCc9kALVMzU1",
        "outputId": "6663c039-78de-4050-da3e-6af5fe78c249"
      },
      "execution_count": 21,
      "outputs": [
        {
          "output_type": "stream",
          "name": "stdout",
          "text": [
            "+----+----------+\n",
            "|view|avg_price |\n",
            "+----+----------+\n",
            "|7   |403005.77 |\n",
            "|51  |788128.21 |\n",
            "|15  |404673.3  |\n",
            "|54  |798684.82 |\n",
            "|11  |399548.12 |\n",
            "|29  |397771.65 |\n",
            "|69  |750537.94 |\n",
            "|42  |396964.5  |\n",
            "|87  |1072285.2 |\n",
            "|73  |752861.18 |\n",
            "|64  |767036.67 |\n",
            "|3   |398867.6  |\n",
            "|30  |397862.0  |\n",
            "|34  |401419.75 |\n",
            "|59  |791453.0  |\n",
            "|8   |398592.71 |\n",
            "|28  |402124.62 |\n",
            "|22  |402022.68 |\n",
            "|85  |1056336.74|\n",
            "|16  |399586.53 |\n",
            "+----+----------+\n",
            "only showing top 20 rows\n",
            "\n",
            "--- Cached Runtime: 0.7688357830047607 seconds ---\n",
            "+----+----------+\n",
            "|view|avg_price |\n",
            "+----+----------+\n",
            "|7   |403005.77 |\n",
            "|51  |788128.21 |\n",
            "|15  |404673.3  |\n",
            "|54  |798684.82 |\n",
            "|11  |399548.12 |\n",
            "|29  |397771.65 |\n",
            "|69  |750537.94 |\n",
            "|42  |396964.5  |\n",
            "|87  |1072285.2 |\n",
            "|73  |752861.18 |\n",
            "|64  |767036.67 |\n",
            "|3   |398867.6  |\n",
            "|30  |397862.0  |\n",
            "|34  |401419.75 |\n",
            "|59  |791453.0  |\n",
            "|8   |398592.71 |\n",
            "|28  |402124.62 |\n",
            "|22  |402022.68 |\n",
            "|85  |1056336.74|\n",
            "|16  |399586.53 |\n",
            "+----+----------+\n",
            "only showing top 20 rows\n",
            "\n",
            "--- Uncached Runtime: 0.6535165309906006 seconds ---\n"
          ]
        }
      ]
    },
    {
      "cell_type": "code",
      "execution_count": 22,
      "metadata": {
        "id": "Qm12WN9isHBR"
      },
      "outputs": [],
      "source": [
        "# 10. Partition by the \"date_built\" field on the formatted parquet home sales data\n",
        "\n",
        "df.write.partitionBy(\"date_built\").mode(\"overwrite\").parquet(\"home_sales_partitioned_by_date_built\")"
      ]
    },
    {
      "cell_type": "code",
      "execution_count": 23,
      "metadata": {
        "id": "AZ7BgY61sRqY",
        "colab": {
          "base_uri": "https://localhost:8080/"
        },
        "outputId": "c5ea2e1f-0373-4acb-8564-78c62f1cb924"
      },
      "outputs": [
        {
          "output_type": "stream",
          "name": "stdout",
          "text": [
            "+--------------------+----------+------+--------+---------+-----------+--------+------+----------+----+----------+\n",
            "|                  id|      date| price|bedrooms|bathrooms|sqft_living|sqft_lot|floors|waterfront|view|date_built|\n",
            "+--------------------+----------+------+--------+---------+-----------+--------+------+----------+----+----------+\n",
            "|2ed8d509-7372-46d...|2021-08-06|258710|       3|        3|       1918|    9666|     1|         0|  25|      2015|\n",
            "|941bad30-eb49-4a7...|2020-05-09|229896|       3|        3|       2197|    8641|     1|         0|   3|      2015|\n",
            "|c797ca12-52cd-4b1...|2019-06-08|288650|       2|        3|       2100|   10419|     2|         0|   7|      2015|\n",
            "|0cfe57f3-28c2-472...|2019-10-04|308313|       3|        3|       1960|    9453|     2|         0|   2|      2015|\n",
            "|d715f295-2fbf-4e9...|2021-05-17|391574|       3|        2|       1635|    8040|     2|         0|  10|      2015|\n",
            "|a18515a2-86f3-46b...|2022-02-18|419543|       3|        2|       1642|   12826|     2|         0|  24|      2015|\n",
            "|98f6a9ad-8870-474...|2022-05-07|136752|       2|        3|       1701|   10771|     2|         0|   5|      2015|\n",
            "|7ac67498-b6f3-403...|2021-05-12|349318|       4|        3|       2417|   11304|     2|         0|  37|      2015|\n",
            "|c9bfdb1c-2499-4e3...|2021-12-07|268874|       2|        2|       1537|   12177|     1|         0|  10|      2015|\n",
            "|34c31a34-220d-469...|2019-02-06|409011|       3|        3|       2356|   10507|     1|         0|   1|      2015|\n",
            "|be0ccb95-415d-411...|2020-05-15|425154|       4|        3|       2120|   14229|     2|         0|   4|      2015|\n",
            "|e9031a86-1294-444...|2021-10-09|222322|       4|        3|       1928|   10510|     1|         0|  38|      2015|\n",
            "|e6d7c2a7-596e-4ec...|2019-03-15|131201|       4|        3|       1633|   14655|     1|         0|  22|      2015|\n",
            "|6683714b-3df7-454...|2022-02-01|333403|       4|        2|       2059|    9793|     2|         0|   4|      2015|\n",
            "|00fc996f-508c-430...|2021-07-15|373139|       3|        3|       1763|   11363|     1|         0|  39|      2015|\n",
            "|3d5545f8-bd3b-476...|2020-09-19|797862|       4|        6|       3494|   10385|     2|         0|  90|      2015|\n",
            "|ec6d357c-2435-43e...|2019-05-28|401792|       3|        2|       1627|   10765|     1|         0|  50|      2015|\n",
            "|c2be38fb-814a-403...|2020-03-20|352237|       3|        3|       2485|   10954|     2|         0|   6|      2015|\n",
            "|9570de1f-5a74-45b...|2021-11-29|298453|       3|        2|       2222|   10634|     1|         0|   6|      2015|\n",
            "|1baeff4f-fc00-489...|2020-12-17|152775|       3|        2|       1623|   13851|     1|         0|  41|      2015|\n",
            "+--------------------+----------+------+--------+---------+-----------+--------+------+----------+----+----------+\n",
            "only showing top 20 rows\n",
            "\n"
          ]
        }
      ],
      "source": [
        "# 11. Read the parquet formatted data.\n",
        "p_df_p=spark.read.parquet('home_sales_partitioned_by_date_built')\n",
        "\n",
        "# Show the DataFrame\n",
        "p_df_p.show()"
      ]
    },
    {
      "cell_type": "code",
      "execution_count": 24,
      "metadata": {
        "id": "J6MJkHfvVcvh"
      },
      "outputs": [],
      "source": [
        "# 12. Create a temporary table for the parquet data.\n",
        "p_df_p.createOrReplaceTempView(\"parquet_home_sales\")\n",
        "\n"
      ]
    },
    {
      "cell_type": "code",
      "execution_count": null,
      "metadata": {
        "colab": {
          "base_uri": "https://localhost:8080/"
        },
        "id": "G_Vhb52rU1Sn",
        "outputId": "d6748ea6-d70a-41fd-dcb8-c214a85e949e"
      },
      "outputs": [
        {
          "name": "stdout",
          "output_type": "stream",
          "text": [
            "--- 7.104873657226562e-05 seconds ---\n"
          ]
        }
      ],
      "source": [
        "# 13. Run the query that filters out the view ratings with average price of greater than or equal to $350,000\n",
        "# with the parquet DataFrame. Round your average to two decimal places.\n",
        "# Determine the runtime and compare it to the cached version.\n",
        "\n",
        "start_time = time.time()\n",
        "\n",
        "\n",
        "\n",
        "print(\"--- %s seconds ---\" % (time.time() - start_time))"
      ]
    },
    {
      "cell_type": "code",
      "source": [
        "# 13. Run the query that filters out the view ratings with average price of greater than or equal to $350,000 with the Parquet DataFrame.\n",
        "start_time_parquet = time.time()\n",
        "\n",
        "# Run Spark SQL query using Parquet DataFrame\n",
        "result_parquet = spark.sql(\"\"\"\n",
        "    SELECT\n",
        "        view,\n",
        "        ROUND(AVG(price), 2) AS avg_price\n",
        "    FROM\n",
        "        parquet_home_sales\n",
        "    WHERE\n",
        "        price >= 350000\n",
        "    GROUP BY\n",
        "        view\n",
        "\"\"\")\n",
        "\n",
        "result_parquet.show(truncate=False)\n",
        "\n",
        "print(\"--- Parquet Runtime: %s seconds ---\" % (time.time() - start_time_parquet))\n",
        "\n",
        "# Cached Runtime (using the same query as before)\n",
        "start_time_cached = time.time()\n",
        "\n",
        "result_cached = spark.sql(\"\"\"\n",
        "    SELECT\n",
        "        view,\n",
        "        ROUND(AVG(price), 2) AS avg_price\n",
        "    FROM\n",
        "        home_sales_view\n",
        "    WHERE\n",
        "        price >= 350000\n",
        "    GROUP BY\n",
        "        view\n",
        "\"\"\")\n",
        "\n",
        "result_cached.show(truncate=False)\n",
        "\n",
        "print(\"--- Cached Runtime: %s seconds ---\" % (time.time() - start_time_cached))\n"
      ],
      "metadata": {
        "colab": {
          "base_uri": "https://localhost:8080/"
        },
        "id": "Vbkj_yuaPAVd",
        "outputId": "ef0e2179-07de-4dad-e727-5a45929bd697"
      },
      "execution_count": 25,
      "outputs": [
        {
          "output_type": "stream",
          "name": "stdout",
          "text": [
            "+----+----------+\n",
            "|view|avg_price |\n",
            "+----+----------+\n",
            "|7   |403005.77 |\n",
            "|51  |788128.21 |\n",
            "|15  |404673.3  |\n",
            "|54  |798684.82 |\n",
            "|11  |399548.12 |\n",
            "|29  |397771.65 |\n",
            "|69  |750537.94 |\n",
            "|42  |396964.5  |\n",
            "|73  |752861.18 |\n",
            "|87  |1072285.2 |\n",
            "|64  |767036.67 |\n",
            "|3   |398867.6  |\n",
            "|30  |397862.0  |\n",
            "|34  |401419.75 |\n",
            "|59  |791453.0  |\n",
            "|8   |398592.71 |\n",
            "|28  |402124.62 |\n",
            "|22  |402022.68 |\n",
            "|85  |1056336.74|\n",
            "|35  |401934.21 |\n",
            "+----+----------+\n",
            "only showing top 20 rows\n",
            "\n",
            "--- Parquet Runtime: 1.9303221702575684 seconds ---\n",
            "+----+----------+\n",
            "|view|avg_price |\n",
            "+----+----------+\n",
            "|7   |403005.77 |\n",
            "|51  |788128.21 |\n",
            "|15  |404673.3  |\n",
            "|54  |798684.82 |\n",
            "|11  |399548.12 |\n",
            "|29  |397771.65 |\n",
            "|69  |750537.94 |\n",
            "|42  |396964.5  |\n",
            "|87  |1072285.2 |\n",
            "|73  |752861.18 |\n",
            "|64  |767036.67 |\n",
            "|3   |398867.6  |\n",
            "|30  |397862.0  |\n",
            "|34  |401419.75 |\n",
            "|59  |791453.0  |\n",
            "|8   |398592.71 |\n",
            "|28  |402124.62 |\n",
            "|22  |402022.68 |\n",
            "|85  |1056336.74|\n",
            "|16  |399586.53 |\n",
            "+----+----------+\n",
            "only showing top 20 rows\n",
            "\n",
            "--- Cached Runtime: 1.0768680572509766 seconds ---\n"
          ]
        }
      ]
    },
    {
      "cell_type": "code",
      "execution_count": 27,
      "metadata": {
        "id": "hjjYzQGjtbq8",
        "colab": {
          "base_uri": "https://localhost:8080/"
        },
        "outputId": "be2d87e4-18ef-4510-bc14-aded8293fca7"
      },
      "outputs": [
        {
          "output_type": "execute_result",
          "data": {
            "text/plain": [
              "DataFrame[]"
            ]
          },
          "metadata": {},
          "execution_count": 27
        }
      ],
      "source": [
        "# 14. Uncache the home_sales temporary table.\n",
        "spark.sql(\"UNCACHE TABLE home_sales_view\")\n"
      ]
    },
    {
      "cell_type": "code",
      "execution_count": 28,
      "metadata": {
        "id": "Sy9NBvO7tlmm",
        "colab": {
          "base_uri": "https://localhost:8080/"
        },
        "outputId": "a87e93dc-162f-4a41-8359-b8b726ff80a7"
      },
      "outputs": [
        {
          "output_type": "execute_result",
          "data": {
            "text/plain": [
              "False"
            ]
          },
          "metadata": {},
          "execution_count": 28
        }
      ],
      "source": [
        "# 15. Check if the home_sales is no longer cached\n",
        "\n",
        "spark.catalog.isCached('home_sales_view')"
      ]
    },
    {
      "cell_type": "code",
      "execution_count": null,
      "metadata": {
        "id": "Si-BNruRUGK3"
      },
      "outputs": [],
      "source": []
    }
  ],
  "metadata": {
    "colab": {
      "provenance": [],
      "include_colab_link": true
    },
    "gpuClass": "standard",
    "kernelspec": {
      "display_name": "Python 3 (ipykernel)",
      "language": "python",
      "name": "python3"
    },
    "language_info": {
      "codemirror_mode": {
        "name": "ipython",
        "version": 3
      },
      "file_extension": ".py",
      "mimetype": "text/x-python",
      "name": "python",
      "nbconvert_exporter": "python",
      "pygments_lexer": "ipython3",
      "version": "3.10.4"
    },
    "nteract": {
      "version": "0.28.0"
    }
  },
  "nbformat": 4,
  "nbformat_minor": 0
}